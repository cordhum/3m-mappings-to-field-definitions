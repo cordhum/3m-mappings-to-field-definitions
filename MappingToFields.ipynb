{
 "cells": [
  {
   "cell_type": "code",
   "execution_count": 1,
   "metadata": {
    "collapsed": true
   },
   "outputs": [],
   "source": [
    "import datetime\n",
    "import uuid\n",
    "from bs4 import BeautifulSoup\n",
    "from string import Template"
   ]
  },
  {
   "cell_type": "code",
   "execution_count": 2,
   "metadata": {
    "collapsed": true
   },
   "outputs": [],
   "source": [
    "mappingFile = \"./Mapping.x3ml\"\n",
    "outputDir = \"./fields/\""
   ]
  },
  {
   "cell_type": "code",
   "execution_count": 3,
   "metadata": {
    "collapsed": true
   },
   "outputs": [],
   "source": [
    "containerPrefix = \"http://www.metaphacts.com/instances/fields/\""
   ]
  },
  {
   "cell_type": "markdown",
   "metadata": {},
   "source": [
    "Read mapping XML file from 3M Mapping tool"
   ]
  },
  {
   "cell_type": "code",
   "execution_count": 4,
   "metadata": {
    "collapsed": true
   },
   "outputs": [],
   "source": [
    "with open(mappingFile, \"r\") as f:\n",
    "    xml = BeautifulSoup(f.read(), \"lxml-xml\")"
   ]
  },
  {
   "cell_type": "markdown",
   "metadata": {},
   "source": [
    "Parse mappings"
   ]
  },
  {
   "cell_type": "code",
   "execution_count": 5,
   "metadata": {
    "collapsed": true
   },
   "outputs": [],
   "source": [
    "xmlMappings = xml.find_all('mapping')"
   ]
  },
  {
   "cell_type": "code",
   "execution_count": 6,
   "metadata": {
    "collapsed": true
   },
   "outputs": [],
   "source": [
    "mappings = []\n",
    "for mapping in xmlMappings:\n",
    "    m = {\n",
    "        \"domain\": mapping.domain.type.text,\n",
    "        \"links\": [{ \n",
    "            \"from\": l.path.source_relation.relation.text,\n",
    "            \"to\": [r.text for r in l.path.target_relation.find_all(\"relationship\")]\n",
    "        } for l in mapping.find_all(\"link\")]\n",
    "    }\n",
    "    mappings.append(m)"
   ]
  },
  {
   "cell_type": "markdown",
   "metadata": {},
   "source": [
    "Mappings start off from different domains. If we want to start the fields all from the same domain, we can specify here how to get from one domain to the next"
   ]
  },
  {
   "cell_type": "code",
   "execution_count": 7,
   "metadata": {
    "collapsed": true
   },
   "outputs": [],
   "source": [
    "# Path elements to add depending on Domain\n",
    "normaliseDomains = {\n",
    "    \"crm:E38_Image\" : {\n",
    "        \"crm:E38_Image\": [],\n",
    "        \"crm:E24_Physical_Man-Made_Thing\": [\"crm:P138_represents\"]\n",
    "    },\n",
    "}"
   ]
  },
  {
   "cell_type": "markdown",
   "metadata": {},
   "source": [
    "Field template for a field of datatype xsd:anyURI"
   ]
  },
  {
   "cell_type": "code",
   "execution_count": 8,
   "metadata": {
    "collapsed": true
   },
   "outputs": [],
   "source": [
    "fieldDefinitionAnyURI = Template('''\n",
    "@prefix crm: <http://www.cidoc-crm.org/cidoc-crm/> .\n",
    "@prefix sp: <http://spinrdf.org/sp#> .\n",
    "@prefix rs: <http://www.researchspace.org/ontology/> .\n",
    "@prefix xsd: <http://www.w3.org/2001/XMLSchema#> .\n",
    "@prefix User: <http://www.metaphacts.com/resource/user/> .\n",
    "@prefix rdfs: <http://www.w3.org/2000/01/rdf-schema#> .\n",
    "@prefix : <http://www.metaphacts.com/resource/> .\n",
    "@prefix rdf: <http://www.w3.org/1999/02/22-rdf-syntax-ns#> .\n",
    "@prefix rdfs: <http://www.w3.org/2000/01/rdf-schema#> .\n",
    "\n",
    "<$containerPrefix$fieldName/context> {\n",
    "\t<$containerPrefix$fieldName> a <http://www.w3.org/ns/ldp#Resource> , <http://www.w3.org/ns/prov#Entity> , <http://www.metaphacts.com/ontology/fields#Field> ;\n",
    "\t\trdfs:label \"$fieldName\" ;\n",
    "\t\t<http://www.w3.org/ns/prov#generatedAtTime> \"$dateGenerated\"^^xsd:dateTime ;\n",
    "\t\t<http://www.w3.org/ns/prov#wasAttributedTo> User:admin ;\n",
    "\t\t<http://www.metaphacts.com/ontology/fields#domain> $domain ;\n",
    "\t\t<http://www.metaphacts.com/ontology/fields#insertPattern> _:$uuidInsertPattern ;\n",
    "\t\t<http://www.metaphacts.com/ontology/fields#selectPattern> _:$uuidSelectPattern ;\n",
    "\t\t<http://www.metaphacts.com/ontology/fields#xsdDatatype> xsd:anyURI .\n",
    "\t\n",
    "\t_:$uuidInsertPattern a sp:Query ;\n",
    "\t\tsp:text \"INSERT { ?subject ?predicate ?value} WHERE {}\" .\n",
    "\t\n",
    "\t_:$uuidSelectPattern a sp:Query ;\n",
    "\t\tsp:text \"\"\"SELECT ?value ?label WHERE {\n",
    "  ?subject $selectPath ?value .\n",
    "  ?value rdfs:label ?label\n",
    "}\"\"\" .\n",
    "\t\n",
    "\t_:$uuidContainer <http://www.w3.org/ns/ldp#contains> <$containerPrefix$fieldName> .\n",
    "}\n",
    "\n",
    "{\n",
    "\t_:$uuidContainer a <http://www.w3.org/ns/ldp#Container> , <http://www.w3.org/ns/ldp#Resource> , <http://www.w3.org/ns/prov#Entity> .\n",
    "}\n",
    "''')"
   ]
  },
  {
   "cell_type": "markdown",
   "metadata": {},
   "source": [
    "Normalise to E38 Image"
   ]
  },
  {
   "cell_type": "code",
   "execution_count": 9,
   "metadata": {
    "collapsed": true
   },
   "outputs": [],
   "source": [
    "normaliseTo = \"crm:E38_Image\""
   ]
  },
  {
   "cell_type": "markdown",
   "metadata": {},
   "source": [
    "Generate field definitions from template and write to files"
   ]
  },
  {
   "cell_type": "code",
   "execution_count": 10,
   "metadata": {
    "collapsed": true
   },
   "outputs": [],
   "source": [
    "for mapping in mappings:\n",
    "    for link in mapping['links']:\n",
    "        label = link['from'].split(\"/\")[0]\n",
    "        d = {\n",
    "            'containerPrefix': containerPrefix,\n",
    "            'fieldName': label,\n",
    "            'dateGenerated': datetime.datetime.now().strftime(\"%Y-%m-%dT%H:%M:%SZ\"),\n",
    "            'domain': normaliseTo,\n",
    "            'uuidInsertPattern': uuid.uuid4(),\n",
    "            'uuidSelectPattern': uuid.uuid4(),\n",
    "            'uuidContainer': uuid.uuid4(),\n",
    "            'selectPath':  \"/\".join(normaliseDomains[normaliseTo][mapping['domain']] + link['to'])\n",
    "        }\n",
    "        output = fieldDefinitionAnyURI.substitute(d)\n",
    "        f = open(outputDir + label + \".trig\", \"w\")\n",
    "        f.write(output)\n",
    "        f.close()"
   ]
  }
 ],
 "metadata": {
  "kernelspec": {
   "display_name": "Python 3",
   "language": "python",
   "name": "python3"
  },
  "language_info": {
   "codemirror_mode": {
    "name": "ipython",
    "version": 3
   },
   "file_extension": ".py",
   "mimetype": "text/x-python",
   "name": "python",
   "nbconvert_exporter": "python",
   "pygments_lexer": "ipython3",
   "version": "3.6.1"
  }
 },
 "nbformat": 4,
 "nbformat_minor": 2
}
